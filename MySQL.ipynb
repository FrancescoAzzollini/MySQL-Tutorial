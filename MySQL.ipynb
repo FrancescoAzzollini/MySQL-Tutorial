{
 "cells": [
  {
   "cell_type": "code",
   "execution_count": 44,
   "id": "1f9ad9bb",
   "metadata": {},
   "outputs": [],
   "source": [
    "#pip install mysql-connector-python"
   ]
  },
  {
   "cell_type": "code",
   "execution_count": 45,
   "id": "a43cb0aa",
   "metadata": {},
   "outputs": [
    {
     "name": "stdout",
     "output_type": "stream",
     "text": [
      "<mysql.connector.connection_cext.CMySQLConnection object at 0x000001EA0DABDC40>\n"
     ]
    }
   ],
   "source": [
    "import mysql.connector\n",
    "\n",
    "db = mysql.connector.connect(\n",
    "    host=\"localhost\",\n",
    "    user=\"root\",\n",
    "    password=\"\",\n",
    "    database=\"pysql\" #per usare un database\n",
    ")\n",
    "\n",
    "print(db)"
   ]
  },
  {
   "cell_type": "code",
   "execution_count": 46,
   "id": "86b69c4f",
   "metadata": {},
   "outputs": [
    {
     "name": "stdout",
     "output_type": "stream",
     "text": [
      "('clienti',)\n"
     ]
    }
   ],
   "source": [
    "cursor = db.cursor()\n",
    "#cursor.execute(\"CREATE DATABASE pysql\")\n",
    "'''\n",
    "cursor.execute(\"SHOW DATABASES\") #esegue azioni nel database\n",
    "\n",
    "for x in cursor:\n",
    "    print(x)\n",
    "'''\n",
    "cursor.execute(\"CREATE TABLE IF NOT EXISTS clienti(id int auto_increment primary key, nome varchar(255))\")\n",
    "cursor.execute(\"SHOW TABLES\")\n",
    "\n",
    "for x in cursor:\n",
    "    print(x)"
   ]
  },
  {
   "cell_type": "code",
   "execution_count": 47,
   "id": "d1698c23",
   "metadata": {},
   "outputs": [
    {
     "data": {
      "text/plain": [
       "'\\nsql = \"INSERT INTO clienti (nome, cognome) VALUES (%s, %s)\"\\nvalues = (\"Luca\",\"Rossi\")\\n\\ncursor.execute(sql, values)\\n'"
      ]
     },
     "execution_count": 47,
     "metadata": {},
     "output_type": "execute_result"
    }
   ],
   "source": [
    "#cursor.execute(\"ALTER TABLE clienti ADD cognome varchar(50)\")\n",
    "\n",
    "'''\n",
    "sql = \"INSERT INTO clienti (nome, cognome) VALUES (%s, %s)\"\n",
    "values = (\"Luca\",\"Rossi\")\n",
    "\n",
    "cursor.execute(sql, values)\n",
    "'''\n",
    "\n",
    "#sql = \"INSERT INTO clienti (nome, cognome) VALUES (%s, %s)\"\n",
    "#values = [(\"Anna\",\"Neri\"), (\"Maria\",\"Neri\"), (\"Marco\",\"Cioni\")]\n",
    "\n",
    "#cursor.executemany(sql, values)\n",
    "#db.commit() #apporta effettivamente le modofiche al database"
   ]
  },
  {
   "cell_type": "code",
   "execution_count": 48,
   "id": "d04661c9",
   "metadata": {},
   "outputs": [],
   "source": [
    "#db.close()"
   ]
  },
  {
   "cell_type": "code",
   "execution_count": 37,
   "id": "ec6cf37d",
   "metadata": {},
   "outputs": [],
   "source": []
  },
  {
   "cell_type": "code",
   "execution_count": null,
   "id": "0660829f",
   "metadata": {},
   "outputs": [],
   "source": []
  }
 ],
 "metadata": {
  "kernelspec": {
   "display_name": "Python 3 (ipykernel)",
   "language": "python",
   "name": "python3"
  },
  "language_info": {
   "codemirror_mode": {
    "name": "ipython",
    "version": 3
   },
   "file_extension": ".py",
   "mimetype": "text/x-python",
   "name": "python",
   "nbconvert_exporter": "python",
   "pygments_lexer": "ipython3",
   "version": "3.9.8"
  }
 },
 "nbformat": 4,
 "nbformat_minor": 5
}
